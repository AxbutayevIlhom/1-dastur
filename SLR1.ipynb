{
  "nbformat": 4,
  "nbformat_minor": 0,
  "metadata": {
    "colab": {
      "provenance": [],
      "include_colab_link": true
    },
    "kernelspec": {
      "name": "python3",
      "display_name": "Python 3"
    },
    "language_info": {
      "name": "python"
    }
  },
  "cells": [
    {
      "cell_type": "markdown",
      "metadata": {
        "id": "view-in-github",
        "colab_type": "text"
      },
      "source": [
        "<a href=\"https://colab.research.google.com/github/AxbutayevIlhom/1-dastur/blob/main/SLR1.ipynb\" target=\"_parent\"><img src=\"https://colab.research.google.com/assets/colab-badge.svg\" alt=\"Open In Colab\"/></a>"
      ]
    },
    {
      "cell_type": "markdown",
      "source": [
        "# Machine Learning."
      ],
      "metadata": {
        "id": "2kydzW1m41JU"
      }
    },
    {
      "cell_type": "markdown",
      "source": [
        "#Sample Linear Regression "
      ],
      "metadata": {
        "id": "VT0xKG0DynGW"
      }
    },
    {
      "cell_type": "markdown",
      "source": [
        "Regression ning qanday ishlashini tushinib olamiz."
      ],
      "metadata": {
        "id": "X-azEPcnm-jP"
      }
    },
    {
      "cell_type": "markdown",
      "source": [
        "Regression ning turlari\n",
        "\n",
        "*   Simple (sodda) regression\n",
        "       *  Simple Linear Regression\n",
        "       *  Simple non-linear Regression \n",
        "*   Multiple regression\n",
        "       *  Multiple linear regression\n",
        "       *  Multiple non-linear regression\n",
        "\n"
      ],
      "metadata": {
        "id": "EfgvUHgXnREX"
      }
    },
    {
      "cell_type": "code",
      "execution_count": null,
      "metadata": {
        "id": "lGvnhK0wyiA_"
      },
      "outputs": [],
      "source": [
        "# kerakli kutubxonalarni chaqirib olamiz\n",
        "import numpy as np\n",
        "import pandas as pd"
      ]
    },
    {
      "cell_type": "code",
      "source": [
        "# bizga kerakli datani chaqirib olamiz\n",
        "df=pd.read_csv(\"https://raw.githubusercontent.com/JamshidSalimov/Ai-Fayls/master/housing_LR.csv\", index_col=0,)\n",
        "df"
      ],
      "metadata": {
        "colab": {
          "base_uri": "https://localhost:8080/",
          "height": 423
        },
        "id": "JJQ1CoFlz-ab",
        "outputId": "046484e0-774e-49f8-8578-57c84aa6d462"
      },
      "execution_count": null,
      "outputs": [
        {
          "output_type": "execute_result",
          "data": {
            "text/plain": [
              "               district  rooms  size  level  max_levels    price\n",
              "0          Юнусабадский      3  57.0      4           4  52000.0\n",
              "1         Яккасарайский      2  52.0      4           5  56000.0\n",
              "2          Чиланзарский      2  42.0      4           4  37000.0\n",
              "3          Чиланзарский      3  65.0      1           4  49500.0\n",
              "4          Чиланзарский      3  70.0      3           5  55000.0\n",
              "...                 ...    ...   ...    ...         ...      ...\n",
              "7460        Яшнободский      1  38.0      5           5  24500.0\n",
              "7461        Яшнободский      2  49.0      1           4  32000.0\n",
              "7462    Шайхантахурский      2  64.0      3           9  40000.0\n",
              "7463  Мирзо-Улугбекский      1  18.0      1           4  11000.0\n",
              "7464       Чиланзарский      1  30.0      2           4  22914.0\n",
              "\n",
              "[7278 rows x 6 columns]"
            ],
            "text/html": [
              "\n",
              "  <div id=\"df-47c8e5af-4665-42b7-bd00-798421f758dd\">\n",
              "    <div class=\"colab-df-container\">\n",
              "      <div>\n",
              "<style scoped>\n",
              "    .dataframe tbody tr th:only-of-type {\n",
              "        vertical-align: middle;\n",
              "    }\n",
              "\n",
              "    .dataframe tbody tr th {\n",
              "        vertical-align: top;\n",
              "    }\n",
              "\n",
              "    .dataframe thead th {\n",
              "        text-align: right;\n",
              "    }\n",
              "</style>\n",
              "<table border=\"1\" class=\"dataframe\">\n",
              "  <thead>\n",
              "    <tr style=\"text-align: right;\">\n",
              "      <th></th>\n",
              "      <th>district</th>\n",
              "      <th>rooms</th>\n",
              "      <th>size</th>\n",
              "      <th>level</th>\n",
              "      <th>max_levels</th>\n",
              "      <th>price</th>\n",
              "    </tr>\n",
              "  </thead>\n",
              "  <tbody>\n",
              "    <tr>\n",
              "      <th>0</th>\n",
              "      <td>Юнусабадский</td>\n",
              "      <td>3</td>\n",
              "      <td>57.0</td>\n",
              "      <td>4</td>\n",
              "      <td>4</td>\n",
              "      <td>52000.0</td>\n",
              "    </tr>\n",
              "    <tr>\n",
              "      <th>1</th>\n",
              "      <td>Яккасарайский</td>\n",
              "      <td>2</td>\n",
              "      <td>52.0</td>\n",
              "      <td>4</td>\n",
              "      <td>5</td>\n",
              "      <td>56000.0</td>\n",
              "    </tr>\n",
              "    <tr>\n",
              "      <th>2</th>\n",
              "      <td>Чиланзарский</td>\n",
              "      <td>2</td>\n",
              "      <td>42.0</td>\n",
              "      <td>4</td>\n",
              "      <td>4</td>\n",
              "      <td>37000.0</td>\n",
              "    </tr>\n",
              "    <tr>\n",
              "      <th>3</th>\n",
              "      <td>Чиланзарский</td>\n",
              "      <td>3</td>\n",
              "      <td>65.0</td>\n",
              "      <td>1</td>\n",
              "      <td>4</td>\n",
              "      <td>49500.0</td>\n",
              "    </tr>\n",
              "    <tr>\n",
              "      <th>4</th>\n",
              "      <td>Чиланзарский</td>\n",
              "      <td>3</td>\n",
              "      <td>70.0</td>\n",
              "      <td>3</td>\n",
              "      <td>5</td>\n",
              "      <td>55000.0</td>\n",
              "    </tr>\n",
              "    <tr>\n",
              "      <th>...</th>\n",
              "      <td>...</td>\n",
              "      <td>...</td>\n",
              "      <td>...</td>\n",
              "      <td>...</td>\n",
              "      <td>...</td>\n",
              "      <td>...</td>\n",
              "    </tr>\n",
              "    <tr>\n",
              "      <th>7460</th>\n",
              "      <td>Яшнободский</td>\n",
              "      <td>1</td>\n",
              "      <td>38.0</td>\n",
              "      <td>5</td>\n",
              "      <td>5</td>\n",
              "      <td>24500.0</td>\n",
              "    </tr>\n",
              "    <tr>\n",
              "      <th>7461</th>\n",
              "      <td>Яшнободский</td>\n",
              "      <td>2</td>\n",
              "      <td>49.0</td>\n",
              "      <td>1</td>\n",
              "      <td>4</td>\n",
              "      <td>32000.0</td>\n",
              "    </tr>\n",
              "    <tr>\n",
              "      <th>7462</th>\n",
              "      <td>Шайхантахурский</td>\n",
              "      <td>2</td>\n",
              "      <td>64.0</td>\n",
              "      <td>3</td>\n",
              "      <td>9</td>\n",
              "      <td>40000.0</td>\n",
              "    </tr>\n",
              "    <tr>\n",
              "      <th>7463</th>\n",
              "      <td>Мирзо-Улугбекский</td>\n",
              "      <td>1</td>\n",
              "      <td>18.0</td>\n",
              "      <td>1</td>\n",
              "      <td>4</td>\n",
              "      <td>11000.0</td>\n",
              "    </tr>\n",
              "    <tr>\n",
              "      <th>7464</th>\n",
              "      <td>Чиланзарский</td>\n",
              "      <td>1</td>\n",
              "      <td>30.0</td>\n",
              "      <td>2</td>\n",
              "      <td>4</td>\n",
              "      <td>22914.0</td>\n",
              "    </tr>\n",
              "  </tbody>\n",
              "</table>\n",
              "<p>7278 rows × 6 columns</p>\n",
              "</div>\n",
              "      <button class=\"colab-df-convert\" onclick=\"convertToInteractive('df-47c8e5af-4665-42b7-bd00-798421f758dd')\"\n",
              "              title=\"Convert this dataframe to an interactive table.\"\n",
              "              style=\"display:none;\">\n",
              "        \n",
              "  <svg xmlns=\"http://www.w3.org/2000/svg\" height=\"24px\"viewBox=\"0 0 24 24\"\n",
              "       width=\"24px\">\n",
              "    <path d=\"M0 0h24v24H0V0z\" fill=\"none\"/>\n",
              "    <path d=\"M18.56 5.44l.94 2.06.94-2.06 2.06-.94-2.06-.94-.94-2.06-.94 2.06-2.06.94zm-11 1L8.5 8.5l.94-2.06 2.06-.94-2.06-.94L8.5 2.5l-.94 2.06-2.06.94zm10 10l.94 2.06.94-2.06 2.06-.94-2.06-.94-.94-2.06-.94 2.06-2.06.94z\"/><path d=\"M17.41 7.96l-1.37-1.37c-.4-.4-.92-.59-1.43-.59-.52 0-1.04.2-1.43.59L10.3 9.45l-7.72 7.72c-.78.78-.78 2.05 0 2.83L4 21.41c.39.39.9.59 1.41.59.51 0 1.02-.2 1.41-.59l7.78-7.78 2.81-2.81c.8-.78.8-2.07 0-2.86zM5.41 20L4 18.59l7.72-7.72 1.47 1.35L5.41 20z\"/>\n",
              "  </svg>\n",
              "      </button>\n",
              "      \n",
              "  <style>\n",
              "    .colab-df-container {\n",
              "      display:flex;\n",
              "      flex-wrap:wrap;\n",
              "      gap: 12px;\n",
              "    }\n",
              "\n",
              "    .colab-df-convert {\n",
              "      background-color: #E8F0FE;\n",
              "      border: none;\n",
              "      border-radius: 50%;\n",
              "      cursor: pointer;\n",
              "      display: none;\n",
              "      fill: #1967D2;\n",
              "      height: 32px;\n",
              "      padding: 0 0 0 0;\n",
              "      width: 32px;\n",
              "    }\n",
              "\n",
              "    .colab-df-convert:hover {\n",
              "      background-color: #E2EBFA;\n",
              "      box-shadow: 0px 1px 2px rgba(60, 64, 67, 0.3), 0px 1px 3px 1px rgba(60, 64, 67, 0.15);\n",
              "      fill: #174EA6;\n",
              "    }\n",
              "\n",
              "    [theme=dark] .colab-df-convert {\n",
              "      background-color: #3B4455;\n",
              "      fill: #D2E3FC;\n",
              "    }\n",
              "\n",
              "    [theme=dark] .colab-df-convert:hover {\n",
              "      background-color: #434B5C;\n",
              "      box-shadow: 0px 1px 3px 1px rgba(0, 0, 0, 0.15);\n",
              "      filter: drop-shadow(0px 1px 2px rgba(0, 0, 0, 0.3));\n",
              "      fill: #FFFFFF;\n",
              "    }\n",
              "  </style>\n",
              "\n",
              "      <script>\n",
              "        const buttonEl =\n",
              "          document.querySelector('#df-47c8e5af-4665-42b7-bd00-798421f758dd button.colab-df-convert');\n",
              "        buttonEl.style.display =\n",
              "          google.colab.kernel.accessAllowed ? 'block' : 'none';\n",
              "\n",
              "        async function convertToInteractive(key) {\n",
              "          const element = document.querySelector('#df-47c8e5af-4665-42b7-bd00-798421f758dd');\n",
              "          const dataTable =\n",
              "            await google.colab.kernel.invokeFunction('convertToInteractive',\n",
              "                                                     [key], {});\n",
              "          if (!dataTable) return;\n",
              "\n",
              "          const docLinkHtml = 'Like what you see? Visit the ' +\n",
              "            '<a target=\"_blank\" href=https://colab.research.google.com/notebooks/data_table.ipynb>data table notebook</a>'\n",
              "            + ' to learn more about interactive tables.';\n",
              "          element.innerHTML = '';\n",
              "          dataTable['output_type'] = 'display_data';\n",
              "          await google.colab.output.renderOutput(dataTable, element);\n",
              "          const docLink = document.createElement('div');\n",
              "          docLink.innerHTML = docLinkHtml;\n",
              "          element.appendChild(docLink);\n",
              "        }\n",
              "      </script>\n",
              "    </div>\n",
              "  </div>\n",
              "  "
            ]
          },
          "metadata": {},
          "execution_count": 6
        }
      ]
    },
    {
      "cell_type": "markdown",
      "source": [
        "**Ustunlar Tarifi**\n",
        "\n",
        "*   location - sotilayotgan uy manzili\n",
        "*   district - uy joylashgan tuman\n",
        "*   rooms - xonalar soni\n",
        "*   size - uy maydoni (kv.m)\n",
        "*   level - uy\n",
        "\n",
        "\n",
        "\n"
      ],
      "metadata": {
        "id": "dEsM8yaz0aW0"
      }
    },
    {
      "cell_type": "markdown",
      "source": [
        "Keling qaysi tumanda qanchadan malumot borligini ko'rib chiqamiz"
      ],
      "metadata": {
        "id": "wJtmc7sJ1FH9"
      }
    },
    {
      "cell_type": "code",
      "source": [
        "# bu yerda qaysi tumanda qancha ma'lumot bor ekanligini ko'rib olamiz\n",
        "df[\"district\"].value_counts()"
      ],
      "metadata": {
        "colab": {
          "base_uri": "https://localhost:8080/"
        },
        "id": "Tui-jPMW0IAm",
        "outputId": "055e96f6-1e5b-4ad1-fb41-df00a1101194"
      },
      "execution_count": null,
      "outputs": [
        {
          "output_type": "execute_result",
          "data": {
            "text/plain": [
              "Чиланзарский         1616\n",
              "Мирзо-Улугбекский    1342\n",
              "Учтепинский           872\n",
              "Юнусабадский          847\n",
              "Мирабадский           717\n",
              "Яккасарайский         628\n",
              "Яшнободский           456\n",
              "Шайхантахурский       356\n",
              "Олмазорский           262\n",
              "Сергелийский          159\n",
              "Янгихаётский           15\n",
              "Бектемирский            8\n",
              "Name: district, dtype: int64"
            ]
          },
          "metadata": {},
          "execution_count": 9
        }
      ]
    },
    {
      "cell_type": "markdown",
      "source": [
        "Keling biror Tumanni tanlab olamiz, masalan Chilonzor tumanidagi uylarning narxini bashorat qilib ko'ramiz"
      ],
      "metadata": {
        "id": "8d6J926o1acz"
      }
    },
    {
      "cell_type": "code",
      "source": [
        "# eng m'lumoti ko'p bo'lgan tummani ajratib olamiz.\n",
        "housing=df[df[\"district\"]==\"Чиланзарский\"]\n",
        "housing"
      ],
      "metadata": {
        "id": "Ks5SZpFO1RBS",
        "colab": {
          "base_uri": "https://localhost:8080/",
          "height": 423
        },
        "outputId": "fd032bd8-3100-42c9-d16a-00fe273f1933"
      },
      "execution_count": null,
      "outputs": [
        {
          "output_type": "execute_result",
          "data": {
            "text/plain": [
              "          district  rooms  size  level  max_levels    price\n",
              "2     Чиланзарский      2  42.0      4           4  37000.0\n",
              "3     Чиланзарский      3  65.0      1           4  49500.0\n",
              "4     Чиланзарский      3  70.0      3           5  55000.0\n",
              "5     Чиланзарский      1  28.0      1           4  25500.0\n",
              "6     Чиланзарский      1  30.0      2           4  21200.0\n",
              "...            ...    ...   ...    ...         ...      ...\n",
              "7404  Чиланзарский      3  70.0      3           4  48000.0\n",
              "7422  Чиланзарский      1  20.0      5           5  18500.0\n",
              "7433  Чиланзарский      1  32.0      3           4  28000.0\n",
              "7445  Чиланзарский      3  70.0      1           4  49800.0\n",
              "7464  Чиланзарский      1  30.0      2           4  22914.0\n",
              "\n",
              "[1616 rows x 6 columns]"
            ],
            "text/html": [
              "\n",
              "  <div id=\"df-9b928b0a-e133-44a5-a255-b453ef2d1662\">\n",
              "    <div class=\"colab-df-container\">\n",
              "      <div>\n",
              "<style scoped>\n",
              "    .dataframe tbody tr th:only-of-type {\n",
              "        vertical-align: middle;\n",
              "    }\n",
              "\n",
              "    .dataframe tbody tr th {\n",
              "        vertical-align: top;\n",
              "    }\n",
              "\n",
              "    .dataframe thead th {\n",
              "        text-align: right;\n",
              "    }\n",
              "</style>\n",
              "<table border=\"1\" class=\"dataframe\">\n",
              "  <thead>\n",
              "    <tr style=\"text-align: right;\">\n",
              "      <th></th>\n",
              "      <th>district</th>\n",
              "      <th>rooms</th>\n",
              "      <th>size</th>\n",
              "      <th>level</th>\n",
              "      <th>max_levels</th>\n",
              "      <th>price</th>\n",
              "    </tr>\n",
              "  </thead>\n",
              "  <tbody>\n",
              "    <tr>\n",
              "      <th>2</th>\n",
              "      <td>Чиланзарский</td>\n",
              "      <td>2</td>\n",
              "      <td>42.0</td>\n",
              "      <td>4</td>\n",
              "      <td>4</td>\n",
              "      <td>37000.0</td>\n",
              "    </tr>\n",
              "    <tr>\n",
              "      <th>3</th>\n",
              "      <td>Чиланзарский</td>\n",
              "      <td>3</td>\n",
              "      <td>65.0</td>\n",
              "      <td>1</td>\n",
              "      <td>4</td>\n",
              "      <td>49500.0</td>\n",
              "    </tr>\n",
              "    <tr>\n",
              "      <th>4</th>\n",
              "      <td>Чиланзарский</td>\n",
              "      <td>3</td>\n",
              "      <td>70.0</td>\n",
              "      <td>3</td>\n",
              "      <td>5</td>\n",
              "      <td>55000.0</td>\n",
              "    </tr>\n",
              "    <tr>\n",
              "      <th>5</th>\n",
              "      <td>Чиланзарский</td>\n",
              "      <td>1</td>\n",
              "      <td>28.0</td>\n",
              "      <td>1</td>\n",
              "      <td>4</td>\n",
              "      <td>25500.0</td>\n",
              "    </tr>\n",
              "    <tr>\n",
              "      <th>6</th>\n",
              "      <td>Чиланзарский</td>\n",
              "      <td>1</td>\n",
              "      <td>30.0</td>\n",
              "      <td>2</td>\n",
              "      <td>4</td>\n",
              "      <td>21200.0</td>\n",
              "    </tr>\n",
              "    <tr>\n",
              "      <th>...</th>\n",
              "      <td>...</td>\n",
              "      <td>...</td>\n",
              "      <td>...</td>\n",
              "      <td>...</td>\n",
              "      <td>...</td>\n",
              "      <td>...</td>\n",
              "    </tr>\n",
              "    <tr>\n",
              "      <th>7404</th>\n",
              "      <td>Чиланзарский</td>\n",
              "      <td>3</td>\n",
              "      <td>70.0</td>\n",
              "      <td>3</td>\n",
              "      <td>4</td>\n",
              "      <td>48000.0</td>\n",
              "    </tr>\n",
              "    <tr>\n",
              "      <th>7422</th>\n",
              "      <td>Чиланзарский</td>\n",
              "      <td>1</td>\n",
              "      <td>20.0</td>\n",
              "      <td>5</td>\n",
              "      <td>5</td>\n",
              "      <td>18500.0</td>\n",
              "    </tr>\n",
              "    <tr>\n",
              "      <th>7433</th>\n",
              "      <td>Чиланзарский</td>\n",
              "      <td>1</td>\n",
              "      <td>32.0</td>\n",
              "      <td>3</td>\n",
              "      <td>4</td>\n",
              "      <td>28000.0</td>\n",
              "    </tr>\n",
              "    <tr>\n",
              "      <th>7445</th>\n",
              "      <td>Чиланзарский</td>\n",
              "      <td>3</td>\n",
              "      <td>70.0</td>\n",
              "      <td>1</td>\n",
              "      <td>4</td>\n",
              "      <td>49800.0</td>\n",
              "    </tr>\n",
              "    <tr>\n",
              "      <th>7464</th>\n",
              "      <td>Чиланзарский</td>\n",
              "      <td>1</td>\n",
              "      <td>30.0</td>\n",
              "      <td>2</td>\n",
              "      <td>4</td>\n",
              "      <td>22914.0</td>\n",
              "    </tr>\n",
              "  </tbody>\n",
              "</table>\n",
              "<p>1616 rows × 6 columns</p>\n",
              "</div>\n",
              "      <button class=\"colab-df-convert\" onclick=\"convertToInteractive('df-9b928b0a-e133-44a5-a255-b453ef2d1662')\"\n",
              "              title=\"Convert this dataframe to an interactive table.\"\n",
              "              style=\"display:none;\">\n",
              "        \n",
              "  <svg xmlns=\"http://www.w3.org/2000/svg\" height=\"24px\"viewBox=\"0 0 24 24\"\n",
              "       width=\"24px\">\n",
              "    <path d=\"M0 0h24v24H0V0z\" fill=\"none\"/>\n",
              "    <path d=\"M18.56 5.44l.94 2.06.94-2.06 2.06-.94-2.06-.94-.94-2.06-.94 2.06-2.06.94zm-11 1L8.5 8.5l.94-2.06 2.06-.94-2.06-.94L8.5 2.5l-.94 2.06-2.06.94zm10 10l.94 2.06.94-2.06 2.06-.94-2.06-.94-.94-2.06-.94 2.06-2.06.94z\"/><path d=\"M17.41 7.96l-1.37-1.37c-.4-.4-.92-.59-1.43-.59-.52 0-1.04.2-1.43.59L10.3 9.45l-7.72 7.72c-.78.78-.78 2.05 0 2.83L4 21.41c.39.39.9.59 1.41.59.51 0 1.02-.2 1.41-.59l7.78-7.78 2.81-2.81c.8-.78.8-2.07 0-2.86zM5.41 20L4 18.59l7.72-7.72 1.47 1.35L5.41 20z\"/>\n",
              "  </svg>\n",
              "      </button>\n",
              "      \n",
              "  <style>\n",
              "    .colab-df-container {\n",
              "      display:flex;\n",
              "      flex-wrap:wrap;\n",
              "      gap: 12px;\n",
              "    }\n",
              "\n",
              "    .colab-df-convert {\n",
              "      background-color: #E8F0FE;\n",
              "      border: none;\n",
              "      border-radius: 50%;\n",
              "      cursor: pointer;\n",
              "      display: none;\n",
              "      fill: #1967D2;\n",
              "      height: 32px;\n",
              "      padding: 0 0 0 0;\n",
              "      width: 32px;\n",
              "    }\n",
              "\n",
              "    .colab-df-convert:hover {\n",
              "      background-color: #E2EBFA;\n",
              "      box-shadow: 0px 1px 2px rgba(60, 64, 67, 0.3), 0px 1px 3px 1px rgba(60, 64, 67, 0.15);\n",
              "      fill: #174EA6;\n",
              "    }\n",
              "\n",
              "    [theme=dark] .colab-df-convert {\n",
              "      background-color: #3B4455;\n",
              "      fill: #D2E3FC;\n",
              "    }\n",
              "\n",
              "    [theme=dark] .colab-df-convert:hover {\n",
              "      background-color: #434B5C;\n",
              "      box-shadow: 0px 1px 3px 1px rgba(0, 0, 0, 0.15);\n",
              "      filter: drop-shadow(0px 1px 2px rgba(0, 0, 0, 0.3));\n",
              "      fill: #FFFFFF;\n",
              "    }\n",
              "  </style>\n",
              "\n",
              "      <script>\n",
              "        const buttonEl =\n",
              "          document.querySelector('#df-9b928b0a-e133-44a5-a255-b453ef2d1662 button.colab-df-convert');\n",
              "        buttonEl.style.display =\n",
              "          google.colab.kernel.accessAllowed ? 'block' : 'none';\n",
              "\n",
              "        async function convertToInteractive(key) {\n",
              "          const element = document.querySelector('#df-9b928b0a-e133-44a5-a255-b453ef2d1662');\n",
              "          const dataTable =\n",
              "            await google.colab.kernel.invokeFunction('convertToInteractive',\n",
              "                                                     [key], {});\n",
              "          if (!dataTable) return;\n",
              "\n",
              "          const docLinkHtml = 'Like what you see? Visit the ' +\n",
              "            '<a target=\"_blank\" href=https://colab.research.google.com/notebooks/data_table.ipynb>data table notebook</a>'\n",
              "            + ' to learn more about interactive tables.';\n",
              "          element.innerHTML = '';\n",
              "          dataTable['output_type'] = 'display_data';\n",
              "          await google.colab.output.renderOutput(dataTable, element);\n",
              "          const docLink = document.createElement('div');\n",
              "          docLink.innerHTML = docLinkHtml;\n",
              "          element.appendChild(docLink);\n",
              "        }\n",
              "      </script>\n",
              "    </div>\n",
              "  </div>\n",
              "  "
            ]
          },
          "metadata": {},
          "execution_count": 10
        }
      ]
    },
    {
      "cell_type": "code",
      "source": [
        "x=housing[\"size\"].to_numpy()\n",
        "x\n",
        "y=housing[\"price\"].to_numpy()\n",
        "y"
      ],
      "metadata": {
        "colab": {
          "base_uri": "https://localhost:8080/"
        },
        "id": "Hd0crF-TcGWu",
        "outputId": "a52177c4-b71d-4cad-d4d8-9389f5ed7b48"
      },
      "execution_count": null,
      "outputs": [
        {
          "output_type": "execute_result",
          "data": {
            "text/plain": [
              "array([37000., 49500., 55000., ..., 28000., 49800., 22914.])"
            ]
          },
          "metadata": {},
          "execution_count": 19
        }
      ]
    },
    {
      "cell_type": "markdown",
      "source": [
        "Keling \"price\" ustuni qaysi bir ustun bilan eng yuqori manfiy yoki yuqori karilatsiyaga ega ekanligini ko'rib chiqamiz"
      ],
      "metadata": {
        "id": "g8cH2q9ppE8K"
      }
    },
    {
      "cell_type": "code",
      "source": [
        "# corrwith()\n",
        "housing.corrwith(housing[\"price\"])"
      ],
      "metadata": {
        "colab": {
          "base_uri": "https://localhost:8080/"
        },
        "id": "4tNRY1popDVM",
        "outputId": "2d4ae55d-dbe2-4671-d6fe-9225615f0aa1"
      },
      "execution_count": null,
      "outputs": [
        {
          "output_type": "execute_result",
          "data": {
            "text/plain": [
              "rooms         0.703835\n",
              "size          0.843639\n",
              "level         0.138780\n",
              "max_levels    0.340015\n",
              "price         1.000000\n",
              "dtype: float64"
            ]
          },
          "metadata": {},
          "execution_count": 11
        }
      ]
    },
    {
      "cell_type": "code",
      "source": [
        "# endi eng yuqori karilatsiyali ustun malumotlarini massiv ko'rinishida ajratib olamiz.\n"
      ],
      "metadata": {
        "id": "jdtLHvEi2Fxy"
      },
      "execution_count": null,
      "outputs": []
    },
    {
      "cell_type": "code",
      "source": [
        "# \"price\" ustuning malumotlarini ham ajratib olamiz massiv ko'rinishida.\n"
      ],
      "metadata": {
        "id": "SKycvKC62de7"
      },
      "execution_count": null,
      "outputs": []
    },
    {
      "cell_type": "markdown",
      "source": [
        "**Biz yuqorida aytgan edik biz tanlagan ustunlar orasida chiziqli bog'liqlik borligini aniqlab oldik uni vizual ko'rinishda ko'rib olamiz.**"
      ],
      "metadata": {
        "id": "1rY1K3lK3VDc"
      }
    },
    {
      "cell_type": "code",
      "source": [
        "# biz seaborn kutubxonasini chaqiramiz\n",
        "# matplotlib va seaborn kutubxonasini chaqirib olamiz\n",
        "import matplotlib.pyplot as plt\n",
        "import seaborn as sns\n",
        "%matplotlib inline\n"
      ],
      "metadata": {
        "id": "hxqWAc4D3LeL"
      },
      "execution_count": null,
      "outputs": []
    },
    {
      "cell_type": "code",
      "source": [
        "# grafigni scatterplot() metodi yordamida chizib olamiz\n",
        "plt.figure(figsize=(10,6))\n",
        "sns.scatterplot(data=housing, x=\"size\",y=\"price\")\n",
        "plt.show()"
      ],
      "metadata": {
        "colab": {
          "base_uri": "https://localhost:8080/",
          "height": 388
        },
        "id": "Bg0qLO0S4EkZ",
        "outputId": "50d9b989-29ea-4738-a36e-d3f4907cbaa9"
      },
      "execution_count": null,
      "outputs": [
        {
          "output_type": "display_data",
          "data": {
            "text/plain": [
              "<Figure size 720x432 with 1 Axes>"
            ],
            "image/png": "[encoded data removed]"
          },
          "metadata": {
            "needs_background": "light"
          }
        }
      ]
    },
    {
      "cell_type": "markdown",
      "source": [
        "**O'nga biz taxminiy chiziq tortib ko'ramiz**"
      ],
      "metadata": {
        "id": "xAdO8s8U5Mgk"
      }
    },
    {
      "cell_type": "code",
      "source": [
        "# regplot line_kws parametiri orqali chiziq tortish.\n",
        "plt.figure(figsize=(10,6))\n",
        "sns.regplot(data=housing, x=\"size\",y=\"price\", line_kws={\"color\":\"r\"})\n",
        "plt.show()"
      ],
      "metadata": {
        "colab": {
          "base_uri": "https://localhost:8080/",
          "height": 388
        },
        "id": "c3AwYzqx4Yfb",
        "outputId": "2356dd24-32d3-4666-920e-1c1be13c6598"
      },
      "execution_count": null,
      "outputs": [
        {
          "output_type": "display_data",
          "data": {
            "text/plain": [
              "<Figure size 720x432 with 1 Axes>"
            ],
            "image/png": "[encoded data removed]"
          },
          "metadata": {
            "needs_background": "light"
          }
        }
      ]
    },
    {
      "cell_type": "markdown",
      "source": [
        "<h1>1-Vazifa</h1>"
      ],
      "metadata": {
        "id": "VswpS_tG5j2I"
      }
    },
    {
      "cell_type": "markdown",
      "source": [
        "\n",
        "\n",
        "Sizning vazifangiz yuqoridagi X va Y o'zgaruvchilardan quyidagi formuladan foydalangan xolda θ 0 va θ 1 koeffisientlarni hisoblash."
      ],
      "metadata": {
        "id": "7qhv67-x5maR"
      }
    },
    {
      "cell_type": "markdown",
      "source": [
        "![zZoXZxI (1).png](data:image/png;base64,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)"
      ],
      "metadata": {
        "id": "tBqPwMMX6YrC"
      }
    },
    {
      "cell_type": "code",
      "source": [
        "# X va Y ning qiymatlarini chaqirib olamiz\n",
        "tetta1=np.sum(np.multiply((x-x.mean()),(y-y.mean())))/(np.sum(np.square(x-x.mean())))\n",
        "tetta1"
      ],
      "metadata": {
        "id": "cyrx8mvp5Y86",
        "colab": {
          "base_uri": "https://localhost:8080/"
        },
        "outputId": "5768f517-0399-4a87-8732-a5b9fd2d6e20"
      },
      "execution_count": null,
      "outputs": [
        {
          "output_type": "execute_result",
          "data": {
            "text/plain": [
              "740.0264822713249"
            ]
          },
          "metadata": {},
          "execution_count": 22
        }
      ]
    },
    {
      "cell_type": "code",
      "source": [
        "# keling biz formuladag x teldani va y teldani topamiz\n",
        "tetta0=y.mean()-tetta1*x.mean()\n",
        "tetta0"
      ],
      "metadata": {
        "id": "hPu5BoXy67x-",
        "colab": {
          "base_uri": "https://localhost:8080/"
        },
        "outputId": "d9909a77-e93e-4c6f-b931-0cff58fc954a"
      },
      "execution_count": null,
      "outputs": [
        {
          "output_type": "execute_result",
          "data": {
            "text/plain": [
              "-195.94911352666531"
            ]
          },
          "metadata": {},
          "execution_count": 23
        }
      ]
    },
    {
      "cell_type": "code",
      "source": [
        "# (xi-Xmean) ning quymatlarini topamiz\n",
        "x"
      ],
      "metadata": {
        "id": "vxvfDIWX7IhZ",
        "colab": {
          "base_uri": "https://localhost:8080/"
        },
        "outputId": "e8cf4b0d-4c6b-4c02-8749-595442f65558"
      },
      "execution_count": null,
      "outputs": [
        {
          "output_type": "execute_result",
          "data": {
            "text/plain": [
              "array([42., 65., 70., ..., 32., 70., 30.])"
            ]
          },
          "metadata": {},
          "execution_count": 26
        }
      ]
    },
    {
      "cell_type": "code",
      "source": [
        "# ikkala ayirmadan hosil bo'lgan qiymatlarni bir biriga ko'paytiramiz\n"
      ],
      "metadata": {
        "id": "3hBj1B8g7wLv"
      },
      "execution_count": null,
      "outputs": []
    },
    {
      "cell_type": "code",
      "source": [
        "# va ularning yig'indisini topamiz.\n"
      ],
      "metadata": {
        "id": "V6Isqtkf0afN"
      },
      "execution_count": null,
      "outputs": []
    },
    {
      "cell_type": "code",
      "source": [],
      "metadata": {
        "id": "PR0QQRjzKWXo"
      },
      "execution_count": null,
      "outputs": []
    },
    {
      "cell_type": "code",
      "source": [
        "# (xi-Xmean) ning kvadrat ayirmasi quymatlarini topamiz\n"
      ],
      "metadata": {
        "id": "sY2_LxMq9jN_"
      },
      "execution_count": null,
      "outputs": []
    },
    {
      "cell_type": "code",
      "source": [
        "# (xi-Xmean) ning kvadrat ayirmasi yig'indisi quymatlarini topamiz\n"
      ],
      "metadata": {
        "id": "tMP5aO8E94xt"
      },
      "execution_count": null,
      "outputs": []
    },
    {
      "cell_type": "code",
      "source": [
        "# tetta1 ni topamiz "
      ],
      "metadata": {
        "id": "kaqUeqZh99-S"
      },
      "execution_count": null,
      "outputs": []
    },
    {
      "cell_type": "code",
      "source": [
        "# tetta1 ni topishning 2-usuli\n"
      ],
      "metadata": {
        "id": "X4JbUpd5-kZj"
      },
      "execution_count": null,
      "outputs": []
    },
    {
      "cell_type": "code",
      "source": [
        "# tetta0 ni quymatini ham formulaga asosan topamiz\n"
      ],
      "metadata": {
        "id": "s0BvXvSi-9F_"
      },
      "execution_count": null,
      "outputs": []
    },
    {
      "cell_type": "markdown",
      "source": [
        "<h1>2-Vazifa</h1>"
      ],
      "metadata": {
        "id": "N4Akyjsi_RB1"
      }
    },
    {
      "cell_type": "markdown",
      "source": [
        "X dan bir nechta tasodifiy qiymatlarni ajratib oling va ularga mos keluvchi Y ni yuqoridagi koeffisientlar yordamida hisoblab ko'ring."
      ],
      "metadata": {
        "id": "guFfjRMGDnUa"
      }
    },
    {
      "cell_type": "markdown",
      "source": [
        "![iT5tffj.png](data:image/png;base64,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)"
      ],
      "metadata": {
        "id": "ifKzKsipDy08"
      }
    },
    {
      "cell_type": "code",
      "source": [
        "# sample()\n"
      ],
      "metadata": {
        "colab": {
          "base_uri": "https://localhost:8080/",
          "height": 363
        },
        "id": "rTqH67Xj56jt",
        "outputId": "746c9413-3ab4-4450-c634-acd76da09d41"
      },
      "execution_count": null,
      "outputs": [
        {
          "output_type": "execute_result",
          "data": {
            "text/plain": [
              "          district  rooms   size  level  max_levels    price\n",
              "6845  Чиланзарский      2   52.0      2           4  36500.0\n",
              "887   Чиланзарский      4   92.0      4           4  61000.0\n",
              "1227  Чиланзарский      4   84.0      4           4  62000.0\n",
              "2831  Чиланзарский      3  111.0      5           6  85000.0\n",
              "331   Чиланзарский      4   94.0      4           5  73000.0\n",
              "2134  Чиланзарский      3   67.0      4           4  35500.0\n",
              "4338  Чиланзарский      1   32.0      2           4  27000.0\n",
              "7028  Чиланзарский      3   93.0      4           4  73500.0\n",
              "4761  Чиланзарский      1   40.0      5           5  25800.0\n",
              "5296  Чиланзарский      3   67.0      4           4  46000.0"
            ],
            "text/html": [
              "\n",
              "  <div id=\"df-1e9935d4-56e5-494e-94de-72d6d3e58497\">\n",
              "    <div class=\"colab-df-container\">\n",
              "      <div>\n",
              "<style scoped>\n",
              "    .dataframe tbody tr th:only-of-type {\n",
              "        vertical-align: middle;\n",
              "    }\n",
              "\n",
              "    .dataframe tbody tr th {\n",
              "        vertical-align: top;\n",
              "    }\n",
              "\n",
              "    .dataframe thead th {\n",
              "        text-align: right;\n",
              "    }\n",
              "</style>\n",
              "<table border=\"1\" class=\"dataframe\">\n",
              "  <thead>\n",
              "    <tr style=\"text-align: right;\">\n",
              "      <th></th>\n",
              "      <th>district</th>\n",
              "      <th>rooms</th>\n",
              "      <th>size</th>\n",
              "      <th>level</th>\n",
              "      <th>max_levels</th>\n",
              "      <th>price</th>\n",
              "    </tr>\n",
              "  </thead>\n",
              "  <tbody>\n",
              "    <tr>\n",
              "      <th>6845</th>\n",
              "      <td>Чиланзарский</td>\n",
              "      <td>2</td>\n",
              "      <td>52.0</td>\n",
              "      <td>2</td>\n",
              "      <td>4</td>\n",
              "      <td>36500.0</td>\n",
              "    </tr>\n",
              "    <tr>\n",
              "      <th>887</th>\n",
              "      <td>Чиланзарский</td>\n",
              "      <td>4</td>\n",
              "      <td>92.0</td>\n",
              "      <td>4</td>\n",
              "      <td>4</td>\n",
              "      <td>61000.0</td>\n",
              "    </tr>\n",
              "    <tr>\n",
              "      <th>1227</th>\n",
              "      <td>Чиланзарский</td>\n",
              "      <td>4</td>\n",
              "      <td>84.0</td>\n",
              "      <td>4</td>\n",
              "      <td>4</td>\n",
              "      <td>62000.0</td>\n",
              "    </tr>\n",
              "    <tr>\n",
              "      <th>2831</th>\n",
              "      <td>Чиланзарский</td>\n",
              "      <td>3</td>\n",
              "      <td>111.0</td>\n",
              "      <td>5</td>\n",
              "      <td>6</td>\n",
              "      <td>85000.0</td>\n",
              "    </tr>\n",
              "    <tr>\n",
              "      <th>331</th>\n",
              "      <td>Чиланзарский</td>\n",
              "      <td>4</td>\n",
              "      <td>94.0</td>\n",
              "      <td>4</td>\n",
              "      <td>5</td>\n",
              "      <td>73000.0</td>\n",
              "    </tr>\n",
              "    <tr>\n",
              "      <th>2134</th>\n",
              "      <td>Чиланзарский</td>\n",
              "      <td>3</td>\n",
              "      <td>67.0</td>\n",
              "      <td>4</td>\n",
              "      <td>4</td>\n",
              "      <td>35500.0</td>\n",
              "    </tr>\n",
              "    <tr>\n",
              "      <th>4338</th>\n",
              "      <td>Чиланзарский</td>\n",
              "      <td>1</td>\n",
              "      <td>32.0</td>\n",
              "      <td>2</td>\n",
              "      <td>4</td>\n",
              "      <td>27000.0</td>\n",
              "    </tr>\n",
              "    <tr>\n",
              "      <th>7028</th>\n",
              "      <td>Чиланзарский</td>\n",
              "      <td>3</td>\n",
              "      <td>93.0</td>\n",
              "      <td>4</td>\n",
              "      <td>4</td>\n",
              "      <td>73500.0</td>\n",
              "    </tr>\n",
              "    <tr>\n",
              "      <th>4761</th>\n",
              "      <td>Чиланзарский</td>\n",
              "      <td>1</td>\n",
              "      <td>40.0</td>\n",
              "      <td>5</td>\n",
              "      <td>5</td>\n",
              "      <td>25800.0</td>\n",
              "    </tr>\n",
              "    <tr>\n",
              "      <th>5296</th>\n",
              "      <td>Чиланзарский</td>\n",
              "      <td>3</td>\n",
              "      <td>67.0</td>\n",
              "      <td>4</td>\n",
              "      <td>4</td>\n",
              "      <td>46000.0</td>\n",
              "    </tr>\n",
              "  </tbody>\n",
              "</table>\n",
              "</div>\n",
              "      <button class=\"colab-df-convert\" onclick=\"convertToInteractive('df-1e9935d4-56e5-494e-94de-72d6d3e58497')\"\n",
              "              title=\"Convert this dataframe to an interactive table.\"\n",
              "              style=\"display:none;\">\n",
              "        \n",
              "  <svg xmlns=\"http://www.w3.org/2000/svg\" height=\"24px\"viewBox=\"0 0 24 24\"\n",
              "       width=\"24px\">\n",
              "    <path d=\"M0 0h24v24H0V0z\" fill=\"none\"/>\n",
              "    <path d=\"M18.56 5.44l.94 2.06.94-2.06 2.06-.94-2.06-.94-.94-2.06-.94 2.06-2.06.94zm-11 1L8.5 8.5l.94-2.06 2.06-.94-2.06-.94L8.5 2.5l-.94 2.06-2.06.94zm10 10l.94 2.06.94-2.06 2.06-.94-2.06-.94-.94-2.06-.94 2.06-2.06.94z\"/><path d=\"M17.41 7.96l-1.37-1.37c-.4-.4-.92-.59-1.43-.59-.52 0-1.04.2-1.43.59L10.3 9.45l-7.72 7.72c-.78.78-.78 2.05 0 2.83L4 21.41c.39.39.9.59 1.41.59.51 0 1.02-.2 1.41-.59l7.78-7.78 2.81-2.81c.8-.78.8-2.07 0-2.86zM5.41 20L4 18.59l7.72-7.72 1.47 1.35L5.41 20z\"/>\n",
              "  </svg>\n",
              "      </button>\n",
              "      \n",
              "  <style>\n",
              "    .colab-df-container {\n",
              "      display:flex;\n",
              "      flex-wrap:wrap;\n",
              "      gap: 12px;\n",
              "    }\n",
              "\n",
              "    .colab-df-convert {\n",
              "      background-color: #E8F0FE;\n",
              "      border: none;\n",
              "      border-radius: 50%;\n",
              "      cursor: pointer;\n",
              "      display: none;\n",
              "      fill: #1967D2;\n",
              "      height: 32px;\n",
              "      padding: 0 0 0 0;\n",
              "      width: 32px;\n",
              "    }\n",
              "\n",
              "    .colab-df-convert:hover {\n",
              "      background-color: #E2EBFA;\n",
              "      box-shadow: 0px 1px 2px rgba(60, 64, 67, 0.3), 0px 1px 3px 1px rgba(60, 64, 67, 0.15);\n",
              "      fill: #174EA6;\n",
              "    }\n",
              "\n",
              "    [theme=dark] .colab-df-convert {\n",
              "      background-color: #3B4455;\n",
              "      fill: #D2E3FC;\n",
              "    }\n",
              "\n",
              "    [theme=dark] .colab-df-convert:hover {\n",
              "      background-color: #434B5C;\n",
              "      box-shadow: 0px 1px 3px 1px rgba(0, 0, 0, 0.15);\n",
              "      filter: drop-shadow(0px 1px 2px rgba(0, 0, 0, 0.3));\n",
              "      fill: #FFFFFF;\n",
              "    }\n",
              "  </style>\n",
              "\n",
              "      <script>\n",
              "        const buttonEl =\n",
              "          document.querySelector('#df-1e9935d4-56e5-494e-94de-72d6d3e58497 button.colab-df-convert');\n",
              "        buttonEl.style.display =\n",
              "          google.colab.kernel.accessAllowed ? 'block' : 'none';\n",
              "\n",
              "        async function convertToInteractive(key) {\n",
              "          const element = document.querySelector('#df-1e9935d4-56e5-494e-94de-72d6d3e58497');\n",
              "          const dataTable =\n",
              "            await google.colab.kernel.invokeFunction('convertToInteractive',\n",
              "                                                     [key], {});\n",
              "          if (!dataTable) return;\n",
              "\n",
              "          const docLinkHtml = 'Like what you see? Visit the ' +\n",
              "            '<a target=\"_blank\" href=https://colab.research.google.com/notebooks/data_table.ipynb>data table notebook</a>'\n",
              "            + ' to learn more about interactive tables.';\n",
              "          element.innerHTML = '';\n",
              "          dataTable['output_type'] = 'display_data';\n",
              "          await google.colab.output.renderOutput(dataTable, element);\n",
              "          const docLink = document.createElement('div');\n",
              "          docLink.innerHTML = docLinkHtml;\n",
              "          element.appendChild(docLink);\n",
              "        }\n",
              "      </script>\n",
              "    </div>\n",
              "  </div>\n",
              "  "
            ]
          },
          "metadata": {},
          "execution_count": 30
        }
      ]
    },
    {
      "cell_type": "code",
      "source": [],
      "metadata": {
        "id": "ebw-4GOnO_y9"
      },
      "execution_count": null,
      "outputs": []
    },
    {
      "cell_type": "code",
      "source": [
        "from pandas.core.common import random_state\n",
        "# DF ning \"size\" ustunidan tasodifiy 10 ta qiymatlarni ajratib olamiz va ularning qiymatini massivga utkazamiz.\n",
        "# random_state() parametiri bilan tanishish. \n",
        "# x_train va y_train larni ajratib olamiz.\n",
        "x_train=housing[\"size\"].sample(10, random_state=42).to_numpy()\n",
        "\n",
        "y_train=housing[\"price\"].sample(10, random_state=42).to_numpy()\n",
        "print(x_train)\n",
        "print(y_train)"
      ],
      "metadata": {
        "colab": {
          "base_uri": "https://localhost:8080/"
        },
        "id": "hbSVXErV_M4e",
        "outputId": "cb4610e5-658b-45fd-f1d0-cebcdf0de80f"
      },
      "execution_count": null,
      "outputs": [
        {
          "output_type": "stream",
          "name": "stdout",
          "text": [
            "[54. 42. 36. 60. 48. 68. 38. 65. 52. 44.]\n",
            "[37500. 26500. 25500. 39000. 32500. 34500. 22700. 47000. 37900. 36000.]\n"
          ]
        }
      ]
    },
    {
      "cell_type": "code",
      "source": [
        "# topgan tetta0 va tetta1 asosida qiymatlarni bashorat qilib ko'ramiz.\n",
        "y_pridect=tetta0+x_train*tetta1\n",
        "y_pridect_int=y_pridect.astype(np.int32)\n",
        "y_pridect_int[0:10]"
      ],
      "metadata": {
        "colab": {
          "base_uri": "https://localhost:8080/"
        },
        "id": "SLjIPiXJFMCs",
        "outputId": "df3dc81d-37f0-490b-ace0-7bdc4e731b44"
      },
      "execution_count": null,
      "outputs": [
        {
          "output_type": "execute_result",
          "data": {
            "text/plain": [
              "array([39765, 30885, 26445, 44205, 35325, 50125, 27925, 47905, 38285,\n",
              "       32365], dtype=int32)"
            ]
          },
          "metadata": {},
          "execution_count": 43
        }
      ]
    },
    {
      "cell_type": "code",
      "source": [
        "# plt yordamida tug'ri chiziq grafigini chizish.\n",
        "plt.figure(figsize=(10,6))\n",
        "sns.scatterplot(data=housing, x=\"size\",y=\"price\")\n",
        "plt.plot(x_train,tetta0+x_train*tetta1, color=\"r\")\n",
        "plt.show()"
      ],
      "metadata": {
        "colab": {
          "base_uri": "https://localhost:8080/",
          "height": 388
        },
        "id": "njRRF5lp7DH0",
        "outputId": "81960edd-8611-4c8c-c4c0-66f14adeb0c4"
      },
      "execution_count": null,
      "outputs": [
        {
          "output_type": "display_data",
          "data": {
            "text/plain": [
              "<Figure size 720x432 with 1 Axes>"
            ],
            "image/png": "[encoded data removed]"
          },
          "metadata": {
            "needs_background": "light"
          }
        }
      ]
    },
    {
      "cell_type": "markdown",
      "source": [
        "<h1>3-Vazifa</h1>"
      ],
      "metadata": {
        "id": "gSr1VdL0T22M"
      }
    },
    {
      "cell_type": "code",
      "source": [
        "# MAE va RMSR ni hisoblash. absolute() metodi\n",
        "\n"
      ],
      "metadata": {
        "id": "LyblYn2S8Gfm"
      },
      "execution_count": null,
      "outputs": []
    },
    {
      "cell_type": "markdown",
      "source": [
        "Hisoblangan va asl qiymtlar o'rtasidagi RMSE (root mean square error), MAE (mean absolute error) hisoblang."
      ],
      "metadata": {
        "id": "8MZcXcSET7P6"
      }
    },
    {
      "cell_type": "markdown",
      "source": [
        "![GJH9CGy.png](data:image/png;base64,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)"
      ],
      "metadata": {
        "id": "Bx-X7pHZUBo6"
      }
    },
    {
      "cell_type": "markdown",
      "source": [
        "![aXL9iWa.png](data:image/png;base64,iVBORw0KGgoAAAANSUhEUgAAAb8AAABqCAYAAAAsl19aAAAgAElEQVR4nO2dfVyT9frHP0tMsekRUhOPIIoQPhxRcXVUNLCD6Q9zHj1mPhx8WoXlc03xMUtRc5YPmFpiKafMMlCyEkvTFB8BBQUFjAeBIEE2lMEExq7fH3DDGNvYYLDBvu/X6369YPe97773dt/f6/5+r891XTwiIjAYDAaDYUU8Ze4OMBgMBoPR3DDjx2AwGAyrgxk/BoPBYFgdzPgxGAwGw+pgxo/BYDAYVgczfgwGg8GwOpjxYzAYDIbVwYwfg8FgMKwOZvwYDAaDYXUw48dgMBgMq4MZPwaDwWBYHcz4MRgMBsPqYMaPwWAwGFYHM34MBoPBsDqY8WMwGAyG1cGMH4PBYDCsDhtzd4DBMCeXLl3CgwcPzN0NBoNhBN7e3rC3t29UG8z4MayaQ4cOISQkxNzdYDAYRpCcnNxo48cjIjJRfxiMFgePx4NQKMS2bdvM3RUGg2Egjo6OsLW1bVQbbObHsHrc3Nzg5uZm7m4wGIxmhAleGFZLSkoKAKBz585m7gmDwWhumPFjWD3u7u7m7gKDwWhmmPFjWC0ZGRnm7gKDwTATzPgxrBa5XA4AGDhwoJl7wmAwmhtm/BhWS05Ojrm7wGAwzAQzfgyrJTMzE0ClbJrBYFgXzPgxrBaZTAYAjY4XYjAYLQ8W5M6wWrgA9xMnTpi7KwwGo5lhMz+GVdPygtsrIE/7BbvmjoT9+C+QUlH7tY68F7DsdC4qn2hLkXv1MFZO6Aee23L8mFtu1p4zGJYEM34Mq4QLcHdycjJzT4yhFPkxX2Dx/LU4/P1lyORlUKIUuWe3Yuays7Dp2wcdEY2Tt3NQoczBleAlCDiah07P2gD3biIpp9TcJ8BgWAzM+DGsmh49epi7C4ZDRUhLeQ7vfhUE346AwwhHPHV+B9ac6QfJ15sherkf2sEFI3sq8PvGFTjwzNv4esd8jO7VEUBvOHZrZ+4zYDAsBmb8GFZJQkICAIDP55u5J0bA64IXZ7yKvn/F43SuHXqkfomVR3pj7Yf/hhtfiZx7d5CBtig+9Rm+7iHG7rmDwFflIPFcEuD1Av7Ro625z4DBsBiY8WNYNc7Ozg14F0Epz0TMd8H4Or7Y5H3STynux19HPGRIfuyFdTv+gz5teQAKkRKbACAbifbTsGn+IPB5AGXeRGSUDI4+A9CrTTN3lcGwYJjxY1glSUlJxr9JKUduyhWEB7+LSYMHQDAtHLnK5hZLP0L6rRSAL8T7m/3h2anKohWn4FJ4POD+DnauGoceNjwAKhSl38V1eGDySDc808w9ZTAsGWb8GFZJYWEhAGPUnhUojD+Jr3+Iwt3UVCSlypuuc/rgjNzLUzDF0x48rnf3E3EuC3Cc6gevblylMjnu3YhBLgbC041VrmC0FEqRH/sdNge8gr68jug75m1sP5kAmYkfNJnxY1glnNrTcNqgs+d0vPeeGGt27ELQtIYslzaeSiNnB69xQ+DEWT6UIjM2ClGaMzxVDuJ/TQC8vDDUPh3nY/PAgnoZlk0J0r59F8KPEvCcz5v4KHQjXu1wDuKJ/4dpO6/jsQkvYFbMlmGVREREQCQSNezNvDZo284cDrQnSL36G6LQByvcuqOmB5y/zw2Dev+t5vDC+7gVnQs4H8fqBTIs/nh59UyRwbA8CE9SfsCBtEkIO/IyHGwqr9bJfv9Au5GT8NEHn+PUa0Mwzelpk3wam/kxrA6FQgEAsLOzM3NPjITykHAxDuB7YGjfTjWvc0uhHi/Ao5daOAPPBu26DITf2NlYv2s5XnZgoQ4MS0YF5dOD8eYin2rDBwA8+xcxfcFLgDwNf+SUmOzT2MyPYXVkZWUBaGkB7gB43fHyjjiovuxQewbXwRPLb5fiw79pPBHbvYyPUm43Zw8ZjEbQBnxnd9QNPrKBLb8DAKCjrelMFpv5MayWFhXgDgB4Gn/r3KHu0iWvAzprGr5mRqFQIDQ0tMnal0ql+OWXX0zebmhoKOLi4vQeExcXh/DwcJ37U1JScOnSJVN3zWLIzs7Gnj179B6jUCiwZ88eSKVSncfU14ZunkCamw+4D8FAR9MloWfGj2F1tMgAdwvn2LFjmD17dpO1v3XrVuzdu9ekbe7ZswcXL17E888/r7GnArIrEozpOBTzwzNg36ULtm7dqnPwvnr1KpYtW6Z34G+pZGdnY/LkyRgyZEidfSSLwuYxveE2Pwz57SqN0rhx45CdnV3nWKlUikWLFjXoAYmksTjxVRaE4ukYZW9CXzsxGFZGWFgYAaDk5OQGtpBJYf4uBHiTJKbIpH1riSQnJxMACgsLa5L2T58+TQAoKirKZG1y10BWVpaWvcWUuE9IgDNNCk2hCqo5x9OnT9c5uqCggAQCAYnFYpP1zxLgzuvw4cNa9ysT95EXQPxJoZRaUfmaSCQikUhEJSUldY4PDg5uwH1XRAn7ppP73KOUWqZqwFnohhk/htUhFov1DHyGwIyfOiKRiAQCgdYBr7GUlJSQQCAgoVBosjazsrLqNdaqojS6ejGR8strBlxu8C4oKKhzPGdMb968abJ+mhuxWKz/d1U9orSrVygx/0n1S9xDgjaDWVBQQACMeEhQUlHcpyT03UaXpcoGnIF+mPFjWB2c8Ws4zW38yikn7C0C0KjNRRJD5Sbu2c2bN3UOdqaAMyqmnPXpM2L64IxmcHBwnX3cwG5KI21O9Bmx+uDur8bN/lRUnvMLvT93C53JeVLPsQ2D+fwYVsf58+fN3QUjsUF3r0lY5l7jo+RPlOBUdAxiYrRv0Rcicfz7w9i1dCJcqt5T9rgEpi5qdOTIEQDAhAkTTNxyJaGhoRAIBBg6dKhJ2lMoFFi0aBHEYjHs7e21HFGK/NgjCJzQDx0DfkS+2p6ePXtCKBRq9VvZ29sjKCgIERERDUigYHlw4qIxY8Zo2UtQ5sfg68BJ6NtxMX7Mr6i1VygUAgAuXrxY551jx44FAHz//fd6P5/kt/HV7kSMClqmFqJDqFBWmC5RQ5OYVAbDgoFRSy/aMMeyZzk9iFxJ7tUzOR9afyGP6veCKOh+2BJyBQj+YZRjwh5xsx2RSGTCVmvgZpXaZloNJSoqSveSp6qQEg6+RZ4uzsQHyHnTFdKccxw+fFjnzIVr25T9NRdCoZAEAoGWPUoqSjhEczxdyYUPgnMQXXlS+yqsb3lTIBDonXmriuLpy8AddWd85WkU9s46OvnANOsXbObXxLR0BVhL778mLfd8bNDt5bcQFOBZ9f85fPjuZ4iSVeh9F9AeTv9ejq1z3YHScpgyPWJMTAwAYNSoUaZrVI2oqCgA0Ko0bCgPHjwAAAwcOLDuztJ85DkuRtieKWgLDwiH9YZmWgAXl8p5NKcYVoebnTZlyEdzIJVKERERAW9vby17FcjNc8aqsJ2Y0BawE3rCrV3t4Bt7e3sIBAKdKyz+/v4Aaq4fdUh+C18umodNt9Nw9etgbN++vWqTIOi9pVhT8QJe6GqaWD9m/JqQ0NBQPPvss9UZRSwDFZ48TMKFo9swL/DnWss62pg3b14j4nMsj4cPHwLQMfhZOjbOmLhqNQJcq5Y/oz/BuzujIKvPoPF6wGvyK7CLyUJefbbSCI4dOwYA+Oc//6n/QHqCh3d+x1HJYgT+lGNw+5wRMdWSJ1AZlgAAHTp0qLuzfV/4+HZH5uXLkPGHY/SgZ+sc0rVrVwCAXF43sbmtrS1EIhGio6PrjR20ZPTfI3y4+ozG3zOvI1zmCuHoftCWJ8nb2xvR0dFa2+ceZs6cOVN7B2XhpxXzMP9QLFJ/CsZasRji6m0F1u66BfcRz6OLiXL0MePXRISHh2P27NmIioqCra0toIzF9r488Hi6Nh9sj626oXLDMVvHcX23x0LZoB4RSmXxOLpsPAZ27YeXpq/EuY726FTPu7Zt24ZFixa1GgNYUlKZHqnhMX4EZU48Ll5/ACADFy8nQ95s2aJ5sHH6P6zaOh+uAAAZoj/8ADuj8uvxg9ig64sT8d54B9iqTNNZhUKBkJAQAPoqY5RCFv8Nlo0ZhK4DvDF9xU10fNawwkopKSmIjo6GUCisvH9MTM+ePbXvqKgq/jtCgIHP6Z5haJv5ATWz4Fu3bjW6j+ZG9z2iwP3EOGRhMEYN7GZ0vth+/foBACQSSe0dPEdM2BsDqhRiatnScfy/rqYzWoavkCoo+ehKmuXnSXw1BRnf049m+c+iqd4e5Ok3g+Ys2UB7j/5OybIyra0oE0NJVKuNEbTy7AMDfBccKipLPkhCPvd+Prl4T6E3QhOpjhi2XEqpl4/TvvUraeU6Mb3hN4IEfjPprRWbad/X1yingjswl85umkneLvwadRzfk/xm+ZO/P7fNoqnerlX7Xcg/LFNnDzlfRVBQUO2eKwooPe5n2uU/pLYSz2EBhd5+QIrqL6GCFNI/6GyQX1VffGlJyGmKSy9QO6ahFNKVTV4EeNCSyL8MegenuNMW49TSaLh6UEn5Z7eR/1RvctFQUfI9/WjWG6GUaHo1tnbK0ygswLOmD4KNdKEJpOD64K5xg/x9T67QJmcQ7N6lyALD+sn9Tqb2n9Wn9FWlhZIQdjRi100q1bKfU0Hq8mdxfr+m8oM2B/XGbaruUajQkTBiN8WVah+Q6vueOb9fw2NtG08DBC8KSg2dU2m8fPdTYnXgYRnJkn+pHtj53oH0Q1qxjjYqSJFxjAIcqgYPtSDJ+imkGMm4qht/LG268ECrfFtVdJuOLh1L7nM+oys5xVXGtYIUOZdp/5whBMf36YJc44crT6ewAI/KtrWKAypIcf9HWimw0ykbLykpqXYW64qPUT26ShJfRzVDO4MOJmt+V1XnyR9P689kmVCi/hdFLvEgYCodTFYY/C6hUNggebil0fgAd0tAReX3wyjAlXtYsyPB+vMkNW0MsF6MMk4FkbTEDoSxBynZwPs8KCioSQLn9cnwiZRUEPku2WE4rbug/TrnDIOu8+bCIYyaV1gY9Rq/qt/Tcd0Fkutooz7jx+1vqsQIhtCAGWR7OPUfgOcAwKEr7Npyk9626Ozmi0WfHsDuic6Qn9+K2RsjkaN1leUptHcaBu/RlTXR5CeOIPzmI4M+nXLOYu9PTzDaDoDzS3j5ha51s3NTPqIki/H6tx7Y+fF8/NOBy4f4FNo7DMebH0uw8pkHyH+s4QCx6Ynhvvr8F0+hvdNYLA58HW11HHHq1ClERERg4cKFOpdreJ2GYf66NyHgXpD/AMn+C8ir/q4IyszT2LM5CRM3b4R4TE/TZSAvzcLt86mA82D072V4lv+3334bQI20vaWi1+fTYmjo8qfp4L7H+vOjEkrTb+O8DHAe3R+9DBxxrl+/DsD0vlmuPS65eW0eIfHSZcjsRmCEUxaOHblex5/KLZvrOm/15dSWGvLA3Rvcb1wbQnHiFYTLPDB5RFdkHAvDNS2iq/rOnfMT5+QY7gM2NSb3+fH4/4BwxhjwAci+/BEXs8t1HNgGbduNwcZNM8BHJDZ/elaHoVSnGHd/iAAFvAk/ewBtnkbbNlpWnGU3EBZ8DvD9JwZpyQVXWSKDkJbzxMizA4C2cBg+Fr4gaNMObN26FUB9cU9tYOc1DxuXDa/6X46kHTsQck1aOXhRLs7u3ImIcZvwScBQ8E1YhI1y7iIqXq5VpaUPzpexaNGiFqyYrEGnz6fF0B5Or76NddNdq/43VP1pGmQyGQCgT58+9RxZhpw7cYjXoZ7URUREBADTP6R0794dAJCRkVF3pyoP965lAOWnsXbOZyjyeB6dNW6RtLQ0APrPm4tz4wxlS4O7N7QbsFL8ee8OspCHC2sX4+MiVwzoXHuMVSgUiIiIgFgs1vkZnD8xMzPTZP02liYQvDyNHn37Vc4MkY6sPB1htRWPkJfWDv38pmCWHSA7FobIe/ovFpJeReg3/fDm+L56O65Mv40fZQD+KkSRStsRz2DAjED8x6W9ISdUB57DJOx+b1idGzkuLg7R0dEQiUQ6AmhrNYIx77yD6dVSqV+wZcv3uPNECVnUF1j34wsI2ToFLm1NWX5UhaL0u7gOBwgG9UJnI95pa2uLoKAgANolyi2F8+fPQyAQ1H9gS6CtK17f+H7NNWSo+tMEcGKX+o1TEdITklCn0K4e1BMjm/ohpX///gB0DOykRFlJOwj+8yY+ObID8wb8rY6Yg5sN1U2GXQMnAOIMZUuEC9iv+6CrgrKsDHyBH+Z88iU+nzeozsN5cnIyAP2zdmfnylW/OqKXZqSJ1Z694dhNx7MelUKu6APngWMw+13vyqW/L65AqvPGLUX6T0eRPHsiPDtUdTv1D9zPr6t9fKqjfWVWi8s/4IcbUi1LQTzYdHGGc2fTljPk4pIMi3vioa2LEGs2T6uuXyX/YTs2Bgdjy7s/w3PrEkx0aphx1o0C6Qk3kQsXjO7vUPPjK6VI+e0LrJ89Bm4jtuLKY61PDBg2bBiAGol7SyQ6OlpH/FJLhIe2Lv/Gxl1zq+TmzbP8qR664+joqP/gij+R8GuyxjI7QVmYgt++eB+zfQZjRNAlPFZ7S70zpoeRWNq3oxY19Hjsjn+Mh6dXoG+t13vgpf0JqEClMRWJRNpj8doMRMDFdFz/chFGayn8q1AoIJFIIBaL9SpQLbJOJD1CyokPIBw2C/vjH2vsLEFa2HKMGLEKkbmVK3UvvfQSAG0Puh3QP+AEiq4fwOLRf9fqjuHGQe3ZYSyIhjgKy2MklYo3raKQUrp/dB7xAeJPP0r3dTnhn1yhTUMkFFOuorLE/eQLEOwWUNif2lWiVHydJF7LKqP7y2NI4gIC3qKwHC1SkLJEOih0rnQ8u4pof/RfBgpG1HIoaj23Ykrct0BnVg9OFGJMcluV9DytF9jVUg86LDhJD5pCvKBKp6PTnNVUdyoqz7tGBxdMozmrl9FUV77erCWcI7yBl02Tc/r0ab2CHE6M0Nqy71NZMoVOd625hppY/WnMdaDKPErTALJbEkmVv8wTyos+SAuE82i1eGpl5hkXCcWo3aCcYlLv71T+kOIOvlH5foAAR5p48G7Vff6E0kJnEjCE/Hf9Ukd5zrVvrOLXULEUd5zlXGfFlHp0QfV3VVeowongaqvYhUKh0blKuUTkhpw7dw2ZS0Rn8pkfPb6J7w7+CrnrW9i7wQ9OulbtpDlIwdOw4fHQtt94BMx1B2RHsf1IHOo+95UjJzIUEcLpGNPNgNla2+fxWtAGzHHlA/dCECDwxqSVX+C3FGkDY+QAQAl52lmEfvGHziM4P0WXLl0MbpVnNwIB6+fAVe21opw8FJoyFUd1w2m4cSEDEPRH7848PMk8jU0rf0W39z7HF0HL8Prw5wB0hX1H7d+xejyXMc58KkzHjdhYxBqz3UhHoZFfwd69e6sDdLXBzSjqDcpuaWgufxbmIEdm6iyeDUGFonvxuMAts1MxMk9/gpUnu+G9rz5H0LLXMRwAXOzRUW0k4rKw6MXmWXjM3YDgar95Fn6LuIDkJwSUp+Jc2H3MOXgIny7yhVvn2vK0kSNHQiwWQyKRGJyAQqFQYOvWrQgKCtIT12iJVEAe/xW2330Vp6I/hS+ArGv38GetxR179B8+FEAf/KNXzdL0hg0bEBERYVQRYW5VKDAw0OD36Ltnm5SGWEztM79yKko7R7v9Pcl12hY6mVyoP3YvJ4z8q9+vpIJIMTkABAdx3Vigstu0b6x/TThAfTO/qjaLEo/SUm+1kAK408T131JMdehDnTMzIHu+9plRo2ZF6jPVqn7OOfqHyTPwV9bf4pOH5DrJc36lzYGHKU5a9VSsvE37vOwIDqvo7CPdevSGzG6rrxdjNo3ZQH0YUqZGb17HFk8BXVg3nABPCghLM/m1o47h1zpXF8+XJDF5lHNmBwUejCVpVZkgrh6cw4qz9EjtXYbPnDRjft1pztG7dP/kchqx9CT9Wa57BCopKSGRSGRwHKFYLNZZp04Ty5r5KelRYhzdU6iI5BdonSO0hHkpKPngVMLw7RRTXPs7O3z4MAkEAoPKfxk7o+auIXOFHTVu5ncpGEtmz8bs2f/Faz790bGPDxbfm45vvliJCW51ncXqVORl43b1f21gP2oqlg+3A3KPYd+JZNRoRCsgvfgt9veZigmuxii/2oDffxo+ORWFiwdXws+FDyAJP3w4DcNG+WPLb9n6Z4FTDyIuJwc51dt9JP++D3NcTSlAqYTk+bifox7qkYRDGw7gbF7D56l1qYA07Q7i4ILR3f7A7jU3MXL5DHjYVT4VU+ZNREbJgNEecO2o+7JoiDPfxvM9/KEza4OO7Y/34GmES/bEiRMA9EunuRlF/QrFlgahPPUU9u25DdeA1Vg10dl0oTF60Kfmq6QQaXHJgJ07umUfwpqowVg+dyjsbHgASpEZG4UoOGP00D7o2KAe8NDWbQrWvT+u6v8kHFozA5M/6YiNq8ehh43ue9XW1ha7d+9GfHw8Ll26pPdTLl26BJlMht27dxuUbabh2YOagjbo1N8DfdvzANuucO7nAGT9VTvMi3Jx80w25r43FUM71P7O/P39ERgYiIULF+r9FKlUimXLliEqKgojR45sihMxOY0zfiMXYdfhwzj02cfYsHwGfPgArnyDkMiMepcXSVkGhd0zNYrJDgMwUTQefGQgIuQUbpVUrXmp0vBTcAJmiUahWwPsDq+9E7zmbcGJmFicDVkGbz6A1DCsES7EzhhtYpgqbDujm4MDHKo3J7iNnoGFbzrr/TyjlYSUj6idQfjOKxgRH42reT3pc6z79JIJlXuPkHQ9BnJk4uc919Bn7TsYXZ0gllOB2sHLewB6mN6+NykKhaJawKBPOs3lY9SmUNSdds60W5Pw5DYOLl+Lb557B8EfTISTnkHfFBgs4S9OxfWfk4Dyn7EnshfWrn4JXau7xqlAPeD9D+NTZNXwNwyd9x5WcuWeUjPQbtIkeBmQ/NjW1hYHDhyod7AeOXIkDhw4YHCaNU7JaBhyxG73Mfo6alCaw6c6oVvvvwH4C3mysqoXCWW3fsSeh9OxZJyj1t9h8uTJ1Q+XurC3t8f169dbjOEDTKT25LXvhv4TFmPzqrEAYrE/MLhaNaQdQmmJHO16dlHLLdkBruOmYKodgCsh+DQyCwRCyc0fsB+TMXmINpn0fWTrCqWo3UPYdHbDmPkSnIz5GgHufEAegQ8++RVZRhmXjhgwczWm6AmR8PDwMKI9JfLP7cG73wyERPwaXhWp3cSQIfqTffj2Tt0Eug2Ci2FCH/gGLsGUPuoGQI57N2KQC3f4DOiBupGRls2NGzeqk+jqk05z+RiN8claPFSI+AObIP7BGYGfLsFYQ3zijaS4uNig41R/3sO1LAAOExC4aiL6qIftlGbgxulkwHEwBvRqXO5Onv1wvLF6arXi9fKG/Tie2ZAYXnPQHi5Tduqsy6hr+26KSwPu005w6NsdwCPIFVVOP8rCj7t+w5h1r2NQhxb21NtITHen8Ozx4oLVWH8iGh9GH4BYMhYvfDxOx2ytAo/z/4LmsM7r8RLmLvTClxuj8OX+U3jPbxySPv0JLwQcQW+tZvoJyuoIQwjK4hIoOzyD9nU+uw34z0/DR19mI374SlyJjMZd2X/gpCUQXsdJor1DX/TWc0RISAgOHDhgUGuUdwZb3gnHgI0nMM6hLXgYibc3zMTnr38GGQDIv8XqoFfhe3hG4+P9Cu/jVnQu4Ps+Fr2qsSymykH8rwkA/z94wd2wWCxjoMJ03EzVM8vWBs8eLkN61wky1kZERAQEAkG1AZRKpXrjLLXtq3RBtDQq8Dj2EMSrz6Df+uNY4ePQiBmU4XCVDfRTgcL0O4iGA3yXi/CqRtiO6v4t/BovB/+tYXB/prG9fhqd/u6IvgCiAUD2NTbsnQrfLS/D3gzjuXHB7Tbo3NsDnvoGFZPRFvbP/R1AArIfFgOwxeNr3+JA57dw2Ktrs1w7loRJ1Z48u5F4Z+ObcIccSTvW4v3j6Tqm5koUFWrLEmIPT+GkSgXYr6H4Yv8hhCb7Ydao54z4YQpwYeN6RGSV6djfBp2GjIafM4DyMpQ3OCFGMTJibyH3SQMHTWU6jr+/FgeeX4ZVk/tUGaP2cBK+jc0Ta5ZNZN/swMensxsZt0UoTYlFhAxwfsmjriHlDOOIwXB71rAHAWP8GhWpYXht2DAMM2Z7LQypBvw2UqkUEokEO3bsqH5Nl3pMIpG0ngB3ACS7gj0rPsEVwSrsWuoFu2YevfQrfuVIibkGGVzw0mBHjXSANYZxxAt9UbdwkHFQ3hlsWZePOXsXwb3qs5M+2ob914x84DIRlhvcbgO+nT34kENWXAY8ScSR4CIsDfxXg1xKLR0ThzrYoNvYxdi5bDgqlz8lCEvT9hSkRJFUWyU5HjoMmYgFk5wBXMbHS/+HDosn13HC6qcDujtnYNd38VpCJjQwYrCvw+NYfCH+HXlVhkR9Ka1++XQJ0sIkCNz/LFYFToKrujFqPwCvLZlVdRMDQCz2iT/HOamGJaBHuPPdJixYugX/u5pTz/p/GXLu3UEG3PGKh5NGZhouVx+Xe5FQoazQOWhwy4rG+DWaUvBy/vx5BAcHo1evXtWv6So3A6D1BLhTPqJ2rsea6KF4f9t8/NOu+RerudAerVA+7kXfB/hD4OGi+aBUlUOzOtlCBZQNDe1RpuP4+1uQNn8h3hAFQCzkrstfsGXrCdwrb4kz+qaiDewcnPAcSvBXYQ5uHdqHW1Pm4uVmWCq3REyf4YXXA2MD12OZOx+4tw8i0U5cqJOFRYb7t7UllgXwVG+8Ml9YuX7vPh0iXyc9s75SPC7RnOG1Q/fevZH0gQQH4wu1DOIVeHzzAn7KGI5ly8fBVdc3oLfqdQlSvv8MIYPc4Fg15qgvpWlPmlvz+fL4Q1gm2oeHc9/CnBftNc6vDex93kDQ3Brzh6RPEbjtV+Sqd0iVgTNbP8L+Xavh7/sO9tbJ2qBOIVJiEwA8j8F9NJOacbW5XDC6Xxc8jpI2itsAAA4tSURBVPkSa3dd1Rpjp27ULcVvFhoaCi8vr1ppsLQpPtVTZrV8lMj75WO8+WE6Jm5ehwBPzWvIApClIvZCFjC4P/pouhW4mnkYgH495Ij5fDN2RRcYP0ujR0g4uB6i+IlY93o/tG37PCYtrnlwlEdsxYaj96BPfWCd5OL295vxwS1fBDaTMtgiMTo4QiWlGMnEyhgNh0UUlv1Ey0FKKko4RHNc+QTwydX/U7qcwx1XRtKbn9E0OxB/4m6KlmrJ6PLod1rn7kDDJdepblEkJRUlHKCp/MpSLsPXn6EHGvE8FckHaSxAcJ1JklMJlK+oiltTFVNOzDe00tePlh69TUUaYUAqRRJ9Nce9qszQVNoVnV83Xqq8kFJPfUg+fEcSht6rFS/IlenQXveunIpyEujswZXkV1U30OGtQ3Qj85HGZ1SQIj+OQt/y0Ih9cySfld9QdBpX009F5UWpdF4yney0xErV/sriaNcQvo4YPi67AwjwoGmSc5SjIz6Ki+8SCAS6PqnZUY8pEolEBGivpVZvmZYWg4rK/zxJS935xJ/4GSUYUeBR9eA0rRcdpLjixqUPMqRsjzJuFw3RdV1yJY64e/T37Fr3APdb6c4uUkGK/AQ6JZlJrgA5rjxLhdwpcbFs3H3DH0/rT92jIj0xf6aGi/PTrOdpEeSEkT9AcF1CYfcNL2lmagoKCsyeLcqIT86ls5vmkp+ng8ag7EreU5dRaKKmmaogRU4MHd+3gZbMmULenpNJEv41bdQohlv5/o/obL56YLucEkN308nM2uUk6xbC5QKivWnqprOUzx1YLqXUKyfpoGQlvTXLjzxdvWnaklW0dsUqCtp/om6Qe/5Z2jTLjzz5Gu1WFcqtLmhb6xg/2hVXO9hd90WvL3heozAud3Hq29STC1Td7Py3TlKejl9OlXmUprn4kP+GU5RZJ369kKIlQhJMXUsHL97XWyz38OHDlntTU00NOG031OnTp1uH8eMK2drNpdA/dNXL1EZV2kFhKKWZwA5w37P24Ocyyjw6j1y859CGyPtU55IrvkYSLy+auvYQXcyU10k4oT+IXkn5kWKNpAl8GrIrjpTK27RvtOb4VLnxR++jhGaq92sJtep0khNG/hhOS0/eb9JECPVhCakSLTNJYwuFe5ppzpmRqiCSljq409yw+7oz6pQXU5HC4GrBOuFmVsZXQW8euIcPbYNy6yhiy+VodKXpocmkIwuuVlQFZ2ilux15SKJJ21qNseivxK2icrlc74OUPkpKSqp/R0Myqlga+leAzEkxpR59h0YsO9U0uYON4ObNm/XM7pueJq7qYF3Y29tDLBYjOjq63qwRjYegzL+Gz9/9EPFv7EbQRO0BqgAAmw7gt2/cT52dnY2QkBAIhUKLDWRVz9yiqfg0Z9FM00AoTz2OtQv+BwRsxdbprjoLKtdGCXn6eexZJsZHSX3wylBng2vq6YMTDmmtiwcebJ7RFmpkGOrB5Pr955bJ+fPnARgb7N7UVOBxzOcI2NUdW9f5ml3dySlizZkn1Wp9nU2FSCSCRCJBRERE0xqJ8rv4ZssptP3vlwgf7YrOTZzVg8vwwFV0t0TURThpaWkYPHhw9f9c5pd6S/BYKlwWFxngknQE6+brUVpWo4Ii8xqOnb9X9f9MDOzdsERimnBle7isOaaGSzydn5/fohJJKxSK6nhTSxGFARWQJ36FJf/9HWP/dxBeZlAGa8I9jOqr+dfkmG3O2YrhfE8te4mtBk7goE1IYmmgarlM0y/JLdkaheoRpUbupgCf8bTuwkO1HU8oL+ZrWjdVQHbDt9DlWiKiMpIm/ECSgLHkwp9Rk4y9MahkFLd7al1ft7Gb1z5KNJHfi/OhNlXyZs6/bJF+Mz1YniiMEx+60MTdMXVEfuaCWxo2pwuFGb8moKSkpLoWVkv0WWgiEokMzuxubnQpPmGkf0FVdJfCVo6rMjhqoqTyP+ny7jfIx09I3i4a9Q/LH1Lc4SXk4zOuap+GmKmhVFcxadymVxFsJNwDUVMN8gbV9LNAuIcCyxCFlZE07iDNcbUj14Awut+Mitf64K5Jc9XyI2LGr8nIysoyuKijJRMcHNxiDB9RZX+5G0sdowbSinQKW7iUdl+4Tb9v8yZgHO2KkxOVZ9GZ99+hwLC7VKQqohiJNwFC2pdYXLVvHi04fIOk5dw+T1pxNr/+z2uhcKKXphjALEEK3xC468/sYhdVISWHrSYfPojvs40uN2FxY2PhHpzMKXYhYoKXJqNnz54IDw+Hk5OTwQUzLZXw8PBaQeSWTI8ePar/5gLbuTRcnTtrBvjr4KmuGLF6IxZ68ZEbmwHYDcDzDg9xdtNHuDgqEBsnu4PPe4JH+UUA3wk9uxQjZud6hA1ai93+Q2BnU4yH2TIAffB8T0sqb2Na/P39AQB37941edv29vYQiUQAWlaCgjNnzgAAhg0bZsZelCHz+DZsud4N849dRux3izHcAvx8HHfu3AEA/Otf/zJrP5jxa0J69uyJhQsXGlwKxRJZuHBhizF8QG0Huqbi093dXfNwHTyD7g588LjK96OdUBb5KY73W4w1L/esVImpHiIjLgcY0Rc2Fz7G3o5LsO3fvSv3laYjJiIecOwP178boq2sgOyKBGM6DsX88Ayo6n+D6aAnKMxOQezZb7F75QIEnTO8qvaQIUMAAL///nuTdG3UqFEAgOvXrzdJ+6YmOzsbEREREAqFehOrNz1Pw2lyEL7cugQzxw2HWxdT6HtNR0xMDADAy8vLrP1gxo/RqtBUfAK65Pj1U5Gdgsu5gJ3sRxxOGov3X1MLLyj4A9cv54JfcgL7rnhh0/xB4FcJbinnHqIzALvJwzHAoIoFpciNv4Rzchmkxc2ZjOsJsq6dxW/XLiPywBYs2RaNx2T4u0eOHAmBQFBvrbeGMmHCBADAqVOnmqR9U/Pbb78BsGxFtLlRKBRYs2YNBAJBLTW2OWDGj9GqUH/iTkpKAlAjxzdOVs1VGgfK2/0fAgN91AqxEoqTYvCzHJA/fAFvr1SvGl4BWUo8LsABgkG9YNhCawf0m7UDVy/+hAPT+zbjTdkejv/0w+Qpr2Pq2IaFEyxcuLDJ4lq5uNmQkBBIpdqqwFgW4eHhAGpmrIy63LhxAwAQGBho5p4w48dohYjFYgBAeno6gIYGuHOVxkfgncAZ8Oyk7jPhkoG7Y27Q2xoFZIuRfvsWZBgIX48eBt9gPH5vvOjVH12aOF7T1HCzM70VHhoB5/c7cuRIk7RvKlJSUhAREYHg4OAW7eZoag4dOgSBQIDx48ebuyvM+DFaH1wAdkhICICaAHejgqWrK437wu9FjUKf9BBJ1+4AfG9MGN5DY18e7kQlAXaD8I/ezxjyQciPPYLACf3QMeBHaCv0ZcnY29vj8OHDkEgk9dT3axhubm4Qi8UIDQ21aOFYSEgIBAIBZsyYYe6uWCwpKSkICQlBYGCgRTwgMOPHaHVoKj4bMihzlca1+u1K7iPu7D1gsAfcNWuhcaV8RnvAze4pKOXFKNX1IfQIiV8swfhpa/DpT0no4tgFnfT2Sgn5w7+Qm5tb//ZQXk+NR9MxdepUCASC6ocNU7N48WJER0fj2LFjTdJ+Y4mLi4NEIkFgYKCZhS6WzYoVKyAUCi1i1gcw48dohWgqPiMiIqqXzwxDiQcJ0bgMR4z2dKmsLalGxf1EnMsCHH0GoJdmqbqsZFyQAS5evdH+xhGs2/47pLpEJKX5yHNcjLA9U9AWHhAO660/76bqD3w3cyh69OhR/zbzO6Q1k2zU1tYWn3/+eXVOS1PTs2dPhIWFVfvULI20tDSIxWJMnjzZ3F2xWKRSKSIiIrBt2zaLmPUBLLcnoxWirvi8desWAMDOTtOE6aMQd69FQ45eELhqLHlWC2GcMW2AIzrU2qdEXuod3AQA8QzMXLcXIStegYMuN177vvDxleLi+suQ8Ydj9KBn9XfrKXfMO52DeUacSXMxePBgREZGNln7kydPrk6mbWmMHz/eYmYzloq9vT0KCgosambMjB+j1aF+g+3ZswdAjR/QIEozcONyJ0xbMgOvuGsGqRci5UYB/N4QYdYL3TUM41N4puvfMdznHby+cinmje1bHf6gE66q+QgRBj7Xsm/Hph7YLGngVMdSZjKWjqX9fi37bmMwdMBVBeAy7Kv7Aevl6UFYeOYM2rfT5hV4Fi9tOYlX2mu7dZ5Cp1HrcPk3wz+KMm8iMgoYsWsonOt1Qighf/gQReUGBOO17YiuXfjsBmcwdMDuDUarRHOmx+cbkWaM9zTa63S+2aB9+wZ3SwMuJtAdC4c44en6Dlf9ge9mjsH8X3Lrb3rsQSSfmgc35tVnMLTCbg1Gq0RzpmdZhUU5HiHx0mXI7EZghFMWjh25Dpm+SV2Vz48qE9Lr304zw8dg6IPdHoxWiVmLZBqKKg/3rmUA5aexds5nKPJ4Hp3NEuOuhEJeAqAUj0tKYUSGMwajxcKWPRmtEs0q2hZZDZyUKCtpB8F/3sT2zW9itENzJyB+jDvhh3H86iUc3/cTAGD/0nmg6//CUN+ZeGOURgA/g9GK4BERe9BjtEp4vJqhm13mDAZDHbbsyWi1cDk+jQtwZzAY1gAzfoxWC+f3My7AncFgWAPM+DFaLd27dwfQQsQvDAajWWHGj9Fq4cIbjIrxYzAYVgEzfoxWi6OjIwDgueeeM3NPGAyGpcGMH6PVYmtrC4FAgK5du5q7KwwGw8JgoQ4MBoPBsDrYzI/BYDAYVgczfgwGg8GwOpjxYzAYDIbVwYwfg8FgMKwOZvwYDAaDYXUw48dgMBgMq4MZPwaDwWBYHcz4MRgMBsPqYMaPwWAwGFbH/wME7cSaBHIgZwAAAABJRU5ErkJggg==)"
      ],
      "metadata": {
        "id": "hD35dnB0UH8a"
      }
    },
    {
      "cell_type": "code",
      "source": [
        "# MAE (mean absolute error) o'rtacha absalut xatolik \n",
        "MAE=np.sum(np.absolute(y_pridect-y_train))/len(y_train)\n",
        "MAE"
      ],
      "metadata": {
        "id": "sAzzlFr1GXbM",
        "colab": {
          "base_uri": "https://localhost:8080/"
        },
        "outputId": "38f80f63-4426-44ad-b28e-748e9256f3f9"
      },
      "execution_count": null,
      "outputs": [
        {
          "output_type": "execute_result",
          "data": {
            "text/plain": [
              "4140.3503163471805"
            ]
          },
          "metadata": {},
          "execution_count": 52
        }
      ]
    },
    {
      "cell_type": "code",
      "source": [
        "# RMSE (root mean square error) o'rtacha kvadratik xatolik \n"
      ],
      "metadata": {
        "id": "WZIFO5i5VBjy"
      },
      "execution_count": null,
      "outputs": []
    }
  ]
}